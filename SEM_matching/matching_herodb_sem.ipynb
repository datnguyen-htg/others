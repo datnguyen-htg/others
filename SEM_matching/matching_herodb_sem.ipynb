{
 "cells": [
  {
   "cell_type": "code",
   "execution_count": 1,
   "metadata": {},
   "outputs": [],
   "source": [
    "import pandas as pd\n",
    "import numpy as np\n",
    "import os\n",
    "import sys\n",
    "from io import StringIO\n",
    "import csv\n",
    "\n",
    "parent = os.path.dirname(os.getcwd())  # workaround to import from utils/\n",
    "sys.path.append(parent)\n",
    "\n",
    "from utils.db_utils import df_from_snowflake"
   ]
  },
  {
   "cell_type": "code",
   "execution_count": 8,
   "metadata": {},
   "outputs": [],
   "source": [
    "herodb_query=\"\"\"\n",
    "WITH\n",
    "    amenity as (\n",
    "        SELECT\n",
    "             keyword\n",
    "            , sum(google_search_volume) as sv_last12m\n",
    "       FROM STAGE.reporting_marketing.hero_db_amenities_search_volume_monthly\n",
    "       WHERE TRUE\n",
    "         --AND year_month >= dateadd(month, -12, (select max(year_month) from STAGE.reporting_marketing.hero_db_amenities_search_volume_monthly))\n",
    "         AND year_month BETWEEN '2022-11-01' AND '2023-11-01'\n",
    "         AND MARKET = '{market}'\n",
    "       GROUP BY 1\n",
    "   ),\n",
    "    master as (\n",
    "        SELECT\n",
    "            object_type\n",
    "            , template\n",
    "            , keyword\n",
    "            , object_type_keyword\n",
    "            , location_id\n",
    "            , location_name\n",
    "            , word_form\n",
    "            , amenity_keyword\n",
    "            , prefix\n",
    "        FROM STAGE.derived_marketing.hero_db_keywords_master\n",
    "        WHERE\n",
    "            TRUE\n",
    "            AND is_blacklisted = 'False'\n",
    "            AND is_blacklisted_amenity = 'False'\n",
    "            AND MARKET='{market}'\n",
    "    )\n",
    "select\n",
    "    master.*\n",
    ",   amenity.sv_last12m\n",
    "from master\n",
    "inner join amenity using (keyword)\n",
    "where\n",
    "    TRUE\n",
    ";\n",
    "\"\"\"\n"
   ]
  },
  {
   "cell_type": "code",
   "execution_count": 9,
   "metadata": {},
   "outputs": [],
   "source": [
    "#Load SEM files\n",
    "def load_sem(market:str):\n",
    "       df = pd.read_csv('/Users/datnguyen/Downloads/sem_' + market + '.csv', \n",
    "                     delimiter='\\t', \n",
    "                     encoding='utf-16',\n",
    "                     #nrows=10000,\n",
    "                     skiprows=2, \n",
    "                     decimal='.',\n",
    "                     thousands=',', \n",
    "                     encoding_errors='ignore',\n",
    "                     on_bad_lines='skip',\n",
    "                     na_values=' --',\n",
    "                     usecols=['Search term', 'Impr.', 'Clicks', 'CR', 'ROAS', 'Bookings', 'Revenue'],\n",
    "                     dtype={'Search term': str, \n",
    "                            'Impr.': int, \n",
    "                            'Clicks': int, \n",
    "                            'CR': str, \n",
    "                            'ROAS': str, \n",
    "                            'Bookings': float, \n",
    "                            'Revenue': str}\n",
    "                     ).fillna(0)\n",
    "       print('Search terms of SEM data of ' + market + ': ' + str(len(df)))\n",
    "       \n",
    "       #fix type\n",
    "       df['CR'] = df['CR'].str.replace('%', '').astype(float) / 100\n",
    "       df['ROAS'] = df['ROAS'].str.replace('%', '').astype(float) / 100\n",
    "       df['Revenue'] = df['Revenue'].replace({'€': '', ',': ''}, regex=True).astype(float)\n",
    "       df['Search term'] = df['Search term'].str.lower().str.strip()                              #simple transform before matching\n",
    "       \n",
    "       #Groupby Search term because records were on Campaign level\n",
    "       df_agg = df.groupby(['Search term']).agg({'Impr.': 'sum',\n",
    "                                                'Clicks': 'sum',\n",
    "                                                'CR': 'mean',\n",
    "                                                'ROAS': 'mean',\n",
    "                                                'Bookings': 'sum',\n",
    "                                                'Revenue': 'sum'\n",
    "                                                }).reset_index()\n",
    "       print('Search terms of SEM after deduplication: ' + str(len(df_agg)))\n",
    "       return df_agg\n",
    "\n",
    "\n",
    "#Load HeroDB\n",
    "def load_herodb(market:str):\n",
    "       herodb = df_from_snowflake(query=herodb_query.format(market=market))\n",
    "       herodb['KEYWORD'] = herodb['KEYWORD'].str.lower().str.strip()                               #simple transform before matching\n",
    "       print('Keywords from HeroDB download is: ' + str(len(herodb)))\n",
    "       return herodb\n",
    "       \n",
    "\n",
    "def merge_df(df_herodb:pd.DataFrame, df_sem:pd.DataFrame):\n",
    "       new_df = df_herodb.merge(df_sem,\n",
    "                                how='outer',\n",
    "                                left_on='KEYWORD',\n",
    "                                right_on='Search term'\n",
    "                               )\n",
    "       \n",
    "       return new_df\n",
    "\n",
    "\n",
    "def write_df(df:pd.DataFrame, market:str):\n",
    "       df.to_csv('/Users/datnguyen/Downloads/herodb_sem_matching_' + market + '.csv',\n",
    "                 sep= '\\t',\n",
    "                 encoding='utf-8'\n",
    "                 )\n",
    "       print(str(len(df)) + ' records have been written')\n",
    "\n",
    "def make_file(market):\n",
    "       sem = load_sem(market=market)\n",
    "       herodb = load_herodb(market=market)\n",
    "       merged = merge_df(herodb, sem)\n",
    "       write_df(merged, market)\n",
    "       return merged\n",
    "\n"
   ]
  },
  {
   "cell_type": "code",
   "execution_count": 10,
   "metadata": {},
   "outputs": [
    {
     "name": "stdout",
     "output_type": "stream",
     "text": [
      "Search terms of SEM data of DE: 10181274\n",
      "Search terms of SEM after deduplication: 3268297\n",
      "Keywords from HeroDB download is: 32424\n"
     ]
    },
    {
     "name": "stderr",
     "output_type": "stream",
     "text": [
      "/Users/datnguyen/.pyenv/versions/3.11.5/envs/analytics/lib/python3.11/site-packages/pandas/core/internals/blocks.py:2538: RuntimeWarning: invalid value encountered in cast\n",
      "  values = values.astype(str)\n"
     ]
    },
    {
     "name": "stdout",
     "output_type": "stream",
     "text": [
      "3277963 records have been written\n",
      "HeroDB Keywords that matched: 9623\n"
     ]
    }
   ],
   "source": [
    "#DE\n",
    "merged_DE = make_file(market='DE')\n",
    "\n"
   ]
  },
  {
   "cell_type": "code",
   "execution_count": 11,
   "metadata": {},
   "outputs": [
    {
     "name": "stdout",
     "output_type": "stream",
     "text": [
      "HeroDB Keywords that matched: 22801\n"
     ]
    }
   ],
   "source": [
    "print('HeroDB Keywords that matched: ' +  str(len(merged_DE[(merged_DE['Search term'].isna()==False) & \n",
    "                                                            (merged_DE['KEYWORD'].isna()==False)])))"
   ]
  },
  {
   "cell_type": "code",
   "execution_count": 13,
   "metadata": {},
   "outputs": [
    {
     "data": {
      "text/html": [
       "<div>\n",
       "<style scoped>\n",
       "    .dataframe tbody tr th:only-of-type {\n",
       "        vertical-align: middle;\n",
       "    }\n",
       "\n",
       "    .dataframe tbody tr th {\n",
       "        vertical-align: top;\n",
       "    }\n",
       "\n",
       "    .dataframe thead th {\n",
       "        text-align: right;\n",
       "    }\n",
       "</style>\n",
       "<table border=\"1\" class=\"dataframe\">\n",
       "  <thead>\n",
       "    <tr style=\"text-align: right;\">\n",
       "      <th></th>\n",
       "      <th>KEYWORD</th>\n",
       "      <th>OBJECT_TYPE</th>\n",
       "      <th>TEMPLATE</th>\n",
       "      <th>OBJECT_TYPE_KEYWORD</th>\n",
       "      <th>LOCATION_ID</th>\n",
       "      <th>LOCATION_NAME</th>\n",
       "      <th>WORD_FORM</th>\n",
       "      <th>AMENITY_KEYWORD</th>\n",
       "      <th>PREFIX</th>\n",
       "      <th>SV_LAST12M</th>\n",
       "      <th>Search term</th>\n",
       "      <th>Impr.</th>\n",
       "      <th>Clicks</th>\n",
       "      <th>CR</th>\n",
       "      <th>ROAS</th>\n",
       "      <th>Bookings</th>\n",
       "      <th>Revenue</th>\n",
       "    </tr>\n",
       "  </thead>\n",
       "  <tbody>\n",
       "    <tr>\n",
       "      <th>24259</th>\n",
       "      <td>ferienhaus kroatien mit pool</td>\n",
       "      <td>Amenities KWs DE</td>\n",
       "      <td>[accommodation kw] [location kw] [prefix] [ame...</td>\n",
       "      <td>ferienhaus</td>\n",
       "      <td>5460aeaaa3139</td>\n",
       "      <td>kroatien</td>\n",
       "      <td>singular</td>\n",
       "      <td>pool</td>\n",
       "      <td>mit</td>\n",
       "      <td>284400.0</td>\n",
       "      <td>ferienhaus kroatien mit pool</td>\n",
       "      <td>84082.0</td>\n",
       "      <td>19710.0</td>\n",
       "      <td>2.885133</td>\n",
       "      <td>1.008281</td>\n",
       "      <td>129.74</td>\n",
       "      <td>32991.62</td>\n",
       "    </tr>\n",
       "  </tbody>\n",
       "</table>\n",
       "</div>"
      ],
      "text/plain": [
       "                            KEYWORD       OBJECT_TYPE  \\\n",
       "24259  ferienhaus kroatien mit pool  Amenities KWs DE   \n",
       "\n",
       "                                                TEMPLATE OBJECT_TYPE_KEYWORD  \\\n",
       "24259  [accommodation kw] [location kw] [prefix] [ame...          ferienhaus   \n",
       "\n",
       "         LOCATION_ID LOCATION_NAME WORD_FORM AMENITY_KEYWORD PREFIX  \\\n",
       "24259  5460aeaaa3139      kroatien  singular            pool    mit   \n",
       "\n",
       "       SV_LAST12M                   Search term    Impr.   Clicks        CR  \\\n",
       "24259    284400.0  ferienhaus kroatien mit pool  84082.0  19710.0  2.885133   \n",
       "\n",
       "           ROAS  Bookings   Revenue  \n",
       "24259  1.008281    129.74  32991.62  "
      ]
     },
     "execution_count": 13,
     "metadata": {},
     "output_type": "execute_result"
    }
   ],
   "source": [
    "merged_DE[merged_DE['KEYWORD']=='ferienhaus kroatien mit pool']"
   ]
  },
  {
   "cell_type": "code",
   "execution_count": 15,
   "metadata": {},
   "outputs": [
    {
     "name": "stdout",
     "output_type": "stream",
     "text": [
      "Search terms of SEM data of US: 17007575\n",
      "Search terms of SEM after deduplication: 5605498\n",
      "Keywords from HeroDB download is: 10946\n"
     ]
    },
    {
     "name": "stderr",
     "output_type": "stream",
     "text": [
      "/Users/datnguyen/.pyenv/versions/3.11.5/envs/analytics/lib/python3.11/site-packages/pandas/core/internals/blocks.py:2538: RuntimeWarning: invalid value encountered in cast\n",
      "  values = values.astype(str)\n"
     ]
    },
    {
     "name": "stdout",
     "output_type": "stream",
     "text": [
      "5613775 records have been written\n"
     ]
    }
   ],
   "source": [
    "#US\n",
    "merged_US = make_file(market='US')\n"
   ]
  },
  {
   "cell_type": "code",
   "execution_count": 16,
   "metadata": {},
   "outputs": [
    {
     "name": "stdout",
     "output_type": "stream",
     "text": [
      "HeroDB Keywords that matched: 2689\n"
     ]
    }
   ],
   "source": [
    "print('HeroDB Keywords that matched: ' +  str(len(merged_US[(merged_US['Search term'].isna()==False) &\n",
    "                                                            (merged_US['KEYWORD'].isna()==False)])))"
   ]
  },
  {
   "cell_type": "code",
   "execution_count": 17,
   "metadata": {},
   "outputs": [
    {
     "data": {
      "text/html": [
       "<div>\n",
       "<style scoped>\n",
       "    .dataframe tbody tr th:only-of-type {\n",
       "        vertical-align: middle;\n",
       "    }\n",
       "\n",
       "    .dataframe tbody tr th {\n",
       "        vertical-align: top;\n",
       "    }\n",
       "\n",
       "    .dataframe thead th {\n",
       "        text-align: right;\n",
       "    }\n",
       "</style>\n",
       "<table border=\"1\" class=\"dataframe\">\n",
       "  <thead>\n",
       "    <tr style=\"text-align: right;\">\n",
       "      <th></th>\n",
       "      <th>KEYWORD</th>\n",
       "      <th>OBJECT_TYPE</th>\n",
       "      <th>TEMPLATE</th>\n",
       "      <th>OBJECT_TYPE_KEYWORD</th>\n",
       "      <th>LOCATION_ID</th>\n",
       "      <th>LOCATION_NAME</th>\n",
       "      <th>WORD_FORM</th>\n",
       "      <th>AMENITY_KEYWORD</th>\n",
       "      <th>PREFIX</th>\n",
       "      <th>SV_LAST12M</th>\n",
       "      <th>Search term</th>\n",
       "      <th>Impr.</th>\n",
       "      <th>Clicks</th>\n",
       "      <th>CR</th>\n",
       "      <th>ROAS</th>\n",
       "      <th>Bookings</th>\n",
       "      <th>Revenue</th>\n",
       "    </tr>\n",
       "  </thead>\n",
       "  <tbody>\n",
       "    <tr>\n",
       "      <th>3253</th>\n",
       "      <td>cabin pet friendly pigeon forge</td>\n",
       "      <td>Amenities KWs US</td>\n",
       "      <td>[accommodation kw] [amenity kw] [location kw]</td>\n",
       "      <td>cabin</td>\n",
       "      <td>5460aea288f77</td>\n",
       "      <td>pigeon forge</td>\n",
       "      <td>singular</td>\n",
       "      <td>pet friendly</td>\n",
       "      <td>None</td>\n",
       "      <td>126500.0</td>\n",
       "      <td>cabin pet friendly pigeon forge</td>\n",
       "      <td>5.0</td>\n",
       "      <td>0.0</td>\n",
       "      <td>0.0</td>\n",
       "      <td>0.0</td>\n",
       "      <td>0.0</td>\n",
       "      <td>0.0</td>\n",
       "    </tr>\n",
       "  </tbody>\n",
       "</table>\n",
       "</div>"
      ],
      "text/plain": [
       "                              KEYWORD       OBJECT_TYPE  \\\n",
       "3253  cabin pet friendly pigeon forge  Amenities KWs US   \n",
       "\n",
       "                                           TEMPLATE OBJECT_TYPE_KEYWORD  \\\n",
       "3253  [accommodation kw] [amenity kw] [location kw]               cabin   \n",
       "\n",
       "        LOCATION_ID LOCATION_NAME WORD_FORM AMENITY_KEYWORD PREFIX  \\\n",
       "3253  5460aea288f77  pigeon forge  singular    pet friendly   None   \n",
       "\n",
       "      SV_LAST12M                      Search term  Impr.  Clicks   CR  ROAS  \\\n",
       "3253    126500.0  cabin pet friendly pigeon forge    5.0     0.0  0.0   0.0   \n",
       "\n",
       "      Bookings  Revenue  \n",
       "3253       0.0      0.0  "
      ]
     },
     "execution_count": 17,
     "metadata": {},
     "output_type": "execute_result"
    }
   ],
   "source": [
    "merged_US[merged_US['KEYWORD']=='cabin pet friendly pigeon forge']"
   ]
  },
  {
   "cell_type": "code",
   "execution_count": null,
   "metadata": {},
   "outputs": [],
   "source": []
  },
  {
   "cell_type": "markdown",
   "metadata": {},
   "source": [
    "# Quick look into matching results"
   ]
  },
  {
   "cell_type": "code",
   "execution_count": null,
   "metadata": {},
   "outputs": [],
   "source": [
    "#HeroDB keywords without SEM data\n",
    "len(merged_DE[merged_DE['Search term'].isna()])"
   ]
  },
  {
   "cell_type": "code",
   "execution_count": null,
   "metadata": {},
   "outputs": [],
   "source": [
    "len(merged_DE)"
   ]
  },
  {
   "cell_type": "code",
   "execution_count": null,
   "metadata": {},
   "outputs": [],
   "source": [
    "merged_DE"
   ]
  },
  {
   "cell_type": "code",
   "execution_count": null,
   "metadata": {},
   "outputs": [],
   "source": [
    "merged_DE[(merged_DE['Search term']==\"ferienhaus kroatien mit pool\")]"
   ]
  },
  {
   "cell_type": "code",
   "execution_count": null,
   "metadata": {},
   "outputs": [],
   "source": [
    "herodb_de = load_herodb('DE')"
   ]
  },
  {
   "cell_type": "code",
   "execution_count": null,
   "metadata": {},
   "outputs": [],
   "source": [
    "herodb_de[herodb_de['KEYWORD']=='ferienhaus kroatien mit pool']"
   ]
  },
  {
   "cell_type": "markdown",
   "metadata": {},
   "source": [
    "# Appendix"
   ]
  },
  {
   "cell_type": "code",
   "execution_count": null,
   "metadata": {},
   "outputs": [],
   "source": [
    "#An approach to open file as bytes to fix bugs and save it\n",
    "file = open('/Users/datnguyen/Downloads/sem_de.csv', 'r', encoding='utf-16')\n",
    "csvreader = csv.reader(file)\n",
    "\n",
    "\n",
    "\n",
    "# ignore first 2 rows\n",
    "next(csvreader)\n",
    "next(csvreader)\n",
    "\n",
    "# store other rows\n",
    "rows = []\n",
    "for row in csvreader:\n",
    "        rows.append(row)\n",
    "\n",
    "file.close()\n",
    "\n",
    "with open('/Users/datnguyen/Downloads/sem_de_test.csv', 'w', encoding='UTF-8', newline='') as f:\n",
    "    writer = csv.writer(f, delimiter='\\t')\n",
    "    # write multiple rows\n",
    "    writer.writerows(rows)"
   ]
  }
 ],
 "metadata": {
  "kernelspec": {
   "display_name": "analytics",
   "language": "python",
   "name": "python3"
  },
  "language_info": {
   "codemirror_mode": {
    "name": "ipython",
    "version": 3
   },
   "file_extension": ".py",
   "mimetype": "text/x-python",
   "name": "python",
   "nbconvert_exporter": "python",
   "pygments_lexer": "ipython3",
   "version": "3.11.5"
  },
  "orig_nbformat": 4
 },
 "nbformat": 4,
 "nbformat_minor": 2
}

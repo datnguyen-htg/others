{
 "cells": [
  {
   "cell_type": "code",
   "execution_count": 14,
   "metadata": {},
   "outputs": [],
   "source": [
    "import matplotlib.pyplot as pp\n",
    "import pandas as pd\n",
    "import numpy as np\n",
    "import os\n",
    "\n",
    "from utils.db_utils import df_from_snowflake\n",
    "from scipy.optimize import curve_fit\n",
    "\n",
    "platforms=['android', 'ios']"
   ]
  },
  {
   "cell_type": "code",
   "execution_count": 15,
   "metadata": {},
   "outputs": [],
   "source": [
    "query = \"\"\"\n",
    "select\n",
    "        date_trunc('day', date) dt,\n",
    "        os_name platform,\n",
    "        iff(os_name='ios', 'id' || app_id, app_id) app_id,\n",
    "        media_source,\n",
    "        count(distinct iff(event_name = 'install', appsflyer_id, null))+sum(iff(event_name = 'af_skad_install', 1, 0)) total_installs,\n",
    "        count(distinct iff(event_name = 'install', appsflyer_id, null)) regular_installs,\n",
    "        sum(iff(event_name = 'af_skad_install', 1, 0)) skad_installs,\n",
    "        count(distinct iff(event_name = 'retargeting', appsflyer_id, null)) retargeting,\n",
    "        count(distinct iff(event_name = 'uninstall', appsflyer_id, null)) uninstalls,\n",
    "        0 as cost\n",
    "    from stage.reporting_marketing.appsflyer_installs_uninstalls\n",
    "    where true \n",
    "    and date >= '2023-07-01'\n",
    "    and app_id in (\n",
    "        'com.hometogo',\n",
    "        '1104996296'\n",
    "    )\n",
    "    group by 1,2,3,4\n",
    "    order by 1,2,3,4\n",
    "\"\"\""
   ]
  },
  {
   "cell_type": "code",
   "execution_count": 17,
   "metadata": {},
   "outputs": [
    {
     "ename": "ProgrammingError",
     "evalue": "255002: Optional dependency: 'pandas' is not installed, please see the following link for install instructions: https://docs.snowflake.com/en/user-guide/python-connector-pandas.html#installation",
     "output_type": "error",
     "traceback": [
      "\u001b[0;31m---------------------------------------------------------------------------\u001b[0m",
      "\u001b[0;31mProgrammingError\u001b[0m                          Traceback (most recent call last)",
      "Cell \u001b[0;32mIn[17], line 1\u001b[0m\n\u001b[0;32m----> 1\u001b[0m data \u001b[39m=\u001b[39m df_from_snowflake(query)\n",
      "File \u001b[0;32m~/Work/others/utils/db_utils.py:33\u001b[0m, in \u001b[0;36mdf_from_snowflake\u001b[0;34m(query, user_env_var, role_env_var, password_env_var, account_env_var)\u001b[0m\n\u001b[1;32m     31\u001b[0m \u001b[39mtry\u001b[39;00m:\n\u001b[1;32m     32\u001b[0m     cs\u001b[39m.\u001b[39mexecute(query)\n\u001b[0;32m---> 33\u001b[0m     df \u001b[39m=\u001b[39m cs\u001b[39m.\u001b[39;49mfetch_pandas_all()\n\u001b[1;32m     34\u001b[0m \u001b[39mfinally\u001b[39;00m:\n\u001b[1;32m     35\u001b[0m     cs\u001b[39m.\u001b[39mclose()\n",
      "File \u001b[0;32m~/.pyenv/versions/3.11.5/envs/analytics/lib/python3.11/site-packages/snowflake/connector/cursor.py:1113\u001b[0m, in \u001b[0;36mSnowflakeCursor.fetch_pandas_all\u001b[0;34m(self, **kwargs)\u001b[0m\n\u001b[1;32m   1111\u001b[0m \u001b[39mdef\u001b[39;00m \u001b[39mfetch_pandas_all\u001b[39m(\u001b[39mself\u001b[39m, \u001b[39m*\u001b[39m\u001b[39m*\u001b[39mkwargs: Any) \u001b[39m-\u001b[39m\u001b[39m>\u001b[39m DataFrame:\n\u001b[1;32m   1112\u001b[0m \u001b[39m    \u001b[39m\u001b[39m\"\"\"Fetch Pandas dataframes in batches, where 'batch' refers to Snowflake Chunk.\"\"\"\u001b[39;00m\n\u001b[0;32m-> 1113\u001b[0m     \u001b[39mself\u001b[39;49m\u001b[39m.\u001b[39;49mcheck_can_use_pandas()\n\u001b[1;32m   1114\u001b[0m     \u001b[39mif\u001b[39;00m \u001b[39mself\u001b[39m\u001b[39m.\u001b[39m_prefetch_hook \u001b[39mis\u001b[39;00m \u001b[39mnot\u001b[39;00m \u001b[39mNone\u001b[39;00m:\n\u001b[1;32m   1115\u001b[0m         \u001b[39mself\u001b[39m\u001b[39m.\u001b[39m_prefetch_hook()\n",
      "File \u001b[0;32m~/.pyenv/versions/3.11.5/envs/analytics/lib/python3.11/site-packages/snowflake/connector/cursor.py:1033\u001b[0m, in \u001b[0;36mSnowflakeCursor.check_can_use_pandas\u001b[0;34m(self)\u001b[0m\n\u001b[1;32m   1027\u001b[0m msg \u001b[39m=\u001b[39m (\n\u001b[1;32m   1028\u001b[0m     \u001b[39m\"\u001b[39m\u001b[39mOptional dependency: \u001b[39m\u001b[39m'\u001b[39m\u001b[39mpandas\u001b[39m\u001b[39m'\u001b[39m\u001b[39m is not installed, please see the following link for install \u001b[39m\u001b[39m\"\u001b[39m\n\u001b[1;32m   1029\u001b[0m     \u001b[39m\"\u001b[39m\u001b[39minstructions: https://docs.snowflake.com/en/user-guide/python-connector-pandas.html#installation\u001b[39m\u001b[39m\"\u001b[39m\n\u001b[1;32m   1030\u001b[0m )\n\u001b[1;32m   1031\u001b[0m errno \u001b[39m=\u001b[39m ER_NO_PYARROW\n\u001b[0;32m-> 1033\u001b[0m Error\u001b[39m.\u001b[39;49merrorhandler_wrapper(\n\u001b[1;32m   1034\u001b[0m     \u001b[39mself\u001b[39;49m\u001b[39m.\u001b[39;49mconnection,\n\u001b[1;32m   1035\u001b[0m     \u001b[39mself\u001b[39;49m,\n\u001b[1;32m   1036\u001b[0m     ProgrammingError,\n\u001b[1;32m   1037\u001b[0m     {\n\u001b[1;32m   1038\u001b[0m         \u001b[39m\"\u001b[39;49m\u001b[39mmsg\u001b[39;49m\u001b[39m\"\u001b[39;49m: msg,\n\u001b[1;32m   1039\u001b[0m         \u001b[39m\"\u001b[39;49m\u001b[39merrno\u001b[39;49m\u001b[39m\"\u001b[39;49m: errno,\n\u001b[1;32m   1040\u001b[0m     },\n\u001b[1;32m   1041\u001b[0m )\n",
      "File \u001b[0;32m~/.pyenv/versions/3.11.5/envs/analytics/lib/python3.11/site-packages/snowflake/connector/errors.py:290\u001b[0m, in \u001b[0;36mError.errorhandler_wrapper\u001b[0;34m(connection, cursor, error_class, error_value)\u001b[0m\n\u001b[1;32m    267\u001b[0m \u001b[39m@staticmethod\u001b[39m\n\u001b[1;32m    268\u001b[0m \u001b[39mdef\u001b[39;00m \u001b[39merrorhandler_wrapper\u001b[39m(\n\u001b[1;32m    269\u001b[0m     connection: SnowflakeConnection \u001b[39m|\u001b[39m \u001b[39mNone\u001b[39;00m,\n\u001b[0;32m   (...)\u001b[0m\n\u001b[1;32m    272\u001b[0m     error_value: \u001b[39mdict\u001b[39m[\u001b[39mstr\u001b[39m, Any],\n\u001b[1;32m    273\u001b[0m ) \u001b[39m-\u001b[39m\u001b[39m>\u001b[39m \u001b[39mNone\u001b[39;00m:\n\u001b[1;32m    274\u001b[0m \u001b[39m    \u001b[39m\u001b[39m\"\"\"Error handler wrapper that calls the errorhandler method.\u001b[39;00m\n\u001b[1;32m    275\u001b[0m \n\u001b[1;32m    276\u001b[0m \u001b[39m    Args:\u001b[39;00m\n\u001b[0;32m   (...)\u001b[0m\n\u001b[1;32m    287\u001b[0m \u001b[39m        exception to the first handler in that order.\u001b[39;00m\n\u001b[1;32m    288\u001b[0m \u001b[39m    \"\"\"\u001b[39;00m\n\u001b[0;32m--> 290\u001b[0m     handed_over \u001b[39m=\u001b[39m Error\u001b[39m.\u001b[39;49mhand_to_other_handler(\n\u001b[1;32m    291\u001b[0m         connection,\n\u001b[1;32m    292\u001b[0m         cursor,\n\u001b[1;32m    293\u001b[0m         error_class,\n\u001b[1;32m    294\u001b[0m         error_value,\n\u001b[1;32m    295\u001b[0m     )\n\u001b[1;32m    296\u001b[0m     \u001b[39mif\u001b[39;00m \u001b[39mnot\u001b[39;00m handed_over:\n\u001b[1;32m    297\u001b[0m         \u001b[39mraise\u001b[39;00m Error\u001b[39m.\u001b[39merrorhandler_make_exception(\n\u001b[1;32m    298\u001b[0m             error_class,\n\u001b[1;32m    299\u001b[0m             error_value,\n\u001b[1;32m    300\u001b[0m         )\n",
      "File \u001b[0;32m~/.pyenv/versions/3.11.5/envs/analytics/lib/python3.11/site-packages/snowflake/connector/errors.py:345\u001b[0m, in \u001b[0;36mError.hand_to_other_handler\u001b[0;34m(connection, cursor, error_class, error_value)\u001b[0m\n\u001b[1;32m    343\u001b[0m \u001b[39mif\u001b[39;00m cursor \u001b[39mis\u001b[39;00m \u001b[39mnot\u001b[39;00m \u001b[39mNone\u001b[39;00m:\n\u001b[1;32m    344\u001b[0m     cursor\u001b[39m.\u001b[39mmessages\u001b[39m.\u001b[39mappend((error_class, error_value))\n\u001b[0;32m--> 345\u001b[0m     cursor\u001b[39m.\u001b[39;49merrorhandler(connection, cursor, error_class, error_value)\n\u001b[1;32m    346\u001b[0m     \u001b[39mreturn\u001b[39;00m \u001b[39mTrue\u001b[39;00m\n\u001b[1;32m    347\u001b[0m \u001b[39melif\u001b[39;00m connection \u001b[39mis\u001b[39;00m \u001b[39mnot\u001b[39;00m \u001b[39mNone\u001b[39;00m:\n",
      "File \u001b[0;32m~/.pyenv/versions/3.11.5/envs/analytics/lib/python3.11/site-packages/snowflake/connector/errors.py:221\u001b[0m, in \u001b[0;36mError.default_errorhandler\u001b[0;34m(connection, cursor, error_class, error_value)\u001b[0m\n\u001b[1;32m    219\u001b[0m errno \u001b[39m=\u001b[39m error_value\u001b[39m.\u001b[39mget(\u001b[39m\"\u001b[39m\u001b[39merrno\u001b[39m\u001b[39m\"\u001b[39m)\n\u001b[1;32m    220\u001b[0m done_format_msg \u001b[39m=\u001b[39m error_value\u001b[39m.\u001b[39mget(\u001b[39m\"\u001b[39m\u001b[39mdone_format_msg\u001b[39m\u001b[39m\"\u001b[39m)\n\u001b[0;32m--> 221\u001b[0m \u001b[39mraise\u001b[39;00m error_class(\n\u001b[1;32m    222\u001b[0m     msg\u001b[39m=\u001b[39merror_value\u001b[39m.\u001b[39mget(\u001b[39m\"\u001b[39m\u001b[39mmsg\u001b[39m\u001b[39m\"\u001b[39m),\n\u001b[1;32m    223\u001b[0m     errno\u001b[39m=\u001b[39m\u001b[39mNone\u001b[39;00m \u001b[39mif\u001b[39;00m errno \u001b[39mis\u001b[39;00m \u001b[39mNone\u001b[39;00m \u001b[39melse\u001b[39;00m \u001b[39mint\u001b[39m(errno),\n\u001b[1;32m    224\u001b[0m     sqlstate\u001b[39m=\u001b[39merror_value\u001b[39m.\u001b[39mget(\u001b[39m\"\u001b[39m\u001b[39msqlstate\u001b[39m\u001b[39m\"\u001b[39m),\n\u001b[1;32m    225\u001b[0m     sfqid\u001b[39m=\u001b[39merror_value\u001b[39m.\u001b[39mget(\u001b[39m\"\u001b[39m\u001b[39msfqid\u001b[39m\u001b[39m\"\u001b[39m),\n\u001b[1;32m    226\u001b[0m     query\u001b[39m=\u001b[39merror_value\u001b[39m.\u001b[39mget(\u001b[39m\"\u001b[39m\u001b[39mquery\u001b[39m\u001b[39m\"\u001b[39m),\n\u001b[1;32m    227\u001b[0m     done_format_msg\u001b[39m=\u001b[39m(\n\u001b[1;32m    228\u001b[0m         \u001b[39mNone\u001b[39;00m \u001b[39mif\u001b[39;00m done_format_msg \u001b[39mis\u001b[39;00m \u001b[39mNone\u001b[39;00m \u001b[39melse\u001b[39;00m \u001b[39mbool\u001b[39m(done_format_msg)\n\u001b[1;32m    229\u001b[0m     ),\n\u001b[1;32m    230\u001b[0m     connection\u001b[39m=\u001b[39mconnection,\n\u001b[1;32m    231\u001b[0m     cursor\u001b[39m=\u001b[39mcursor,\n\u001b[1;32m    232\u001b[0m )\n",
      "\u001b[0;31mProgrammingError\u001b[0m: 255002: Optional dependency: 'pandas' is not installed, please see the following link for install instructions: https://docs.snowflake.com/en/user-guide/python-connector-pandas.html#installation"
     ]
    }
   ],
   "source": [
    "data = df_from_snowflake(query)"
   ]
  },
  {
   "cell_type": "code",
   "execution_count": null,
   "metadata": {},
   "outputs": [],
   "source": [
    "data.DT=pd.to_datetime(data.DT)\n",
    "data['is_paid']=data.MEDIA_SOURCE.isin(['Facebook Ads', 'googleadwords_int', 'Apple Search Ads'])\n",
    "\n",
    "paid_installs=data.loc[data.is_paid].groupby(['DT', 'PLATFORM']).sum()['TOTAL_INSTALLS'].unstack().resample('1D').sum()\n",
    "organic_installs=data.loc[data.MEDIA_SOURCE=='organic'].groupby(['DT', 'PLATFORM']).sum()['TOTAL_INSTALLS'].unstack().resample('1D').sum()\n"
   ]
  },
  {
   "cell_type": "code",
   "execution_count": null,
   "metadata": {},
   "outputs": [],
   "source": [
    "def func(X, a ,b):\n",
    "    return a+b*X"
   ]
  },
  {
   "cell_type": "code",
   "execution_count": null,
   "metadata": {},
   "outputs": [],
   "source": [
    "_, ax=pp.subplots(nrows=len(platforms), ncols=2, sharex='col')\n",
    "for n, platform in enumerate(platforms):\n",
    "    X=paid_installs[platform].values[:-1].astype(float)\n",
    "    y=organic_installs[platform].values[:-1].astype(float)\n",
    "    \n",
    "    ax[n,0].plot(X, color='blue')\n",
    "    ax[n,0].plot(y, color='red')\n",
    "    ax[n,0].set(title=platform)\n",
    "    \n",
    "    ## Fit regression line\n",
    "    popt, pcov = curve_fit(\n",
    "        func, \n",
    "        X, \n",
    "        y,\n",
    "        p0=[0,0],\n",
    "        #bounds=(0,3)\n",
    "    )\n",
    "    x_=np.linspace(X.min(), X.max())\n",
    "    organic_predicted=func(x_, *popt)\n",
    "    \n",
    "    ## plot data points\n",
    "    ax[n,1].scatter(x=X, y=y, color='C1', alpha=0.4)\n",
    "    ## plot regression line\n",
    "    ax[n,1].plot(x_, organic_predicted, linestyle='--')\n",
    "    \n",
    "    results.loc[platform, 'r2']=np.corrcoef([X, y]).min()\n",
    "    results.loc[platform, ['Intercept', 'Coefficient']]=popt\n",
    "    \n",
    "print(results)"
   ]
  },
  {
   "cell_type": "code",
   "execution_count": null,
   "metadata": {},
   "outputs": [],
   "source": []
  },
  {
   "cell_type": "code",
   "execution_count": null,
   "metadata": {},
   "outputs": [],
   "source": []
  }
 ],
 "metadata": {
  "kernelspec": {
   "display_name": "Python 3",
   "language": "python",
   "name": "python3"
  },
  "language_info": {
   "codemirror_mode": {
    "name": "ipython",
    "version": 3
   },
   "file_extension": ".py",
   "mimetype": "text/x-python",
   "name": "python",
   "nbconvert_exporter": "python",
   "pygments_lexer": "ipython3",
   "version": "3.11.5"
  },
  "orig_nbformat": 4
 },
 "nbformat": 4,
 "nbformat_minor": 2
}
